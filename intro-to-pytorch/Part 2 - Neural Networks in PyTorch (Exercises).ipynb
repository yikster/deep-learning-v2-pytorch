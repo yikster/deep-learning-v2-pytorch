{
 "cells": [
  {
   "cell_type": "markdown",
   "metadata": {},
   "source": [
    "# Neural networks with PyTorch\n",
    "\n",
    "Deep learning networks tend to be massive with dozens or hundreds of layers, that's where the term \"deep\" comes from. You can build one of these deep networks using only weight matrices as we did in the previous notebook, but in general it's very cumbersome and difficult to implement. PyTorch has a nice module `nn` that provides a nice way to efficiently build large neural networks."
   ]
  },
  {
   "cell_type": "code",
   "execution_count": 30,
   "metadata": {},
   "outputs": [],
   "source": [
    "# Import necessary packages\n",
    "\n",
    "%matplotlib inline\n",
    "%config InlineBackend.figure_format = 'retina'\n",
    "\n",
    "import numpy as np\n",
    "import torch\n",
    "\n",
    "import helper\n",
    "\n",
    "import matplotlib.pyplot as plt"
   ]
  },
  {
   "cell_type": "markdown",
   "metadata": {},
   "source": [
    "\n",
    "Now we're going to build a larger network that can solve a (formerly) difficult problem, identifying text in an image. Here we'll use the MNIST dataset which consists of greyscale handwritten digits. Each image is 28x28 pixels, you can see a sample below\n",
    "\n",
    "<img src='assets/mnist.png'>\n",
    "\n",
    "Our goal is to build a neural network that can take one of these images and predict the digit in the image.\n",
    "\n",
    "First up, we need to get our dataset. This is provided through the `torchvision` package. The code below will download the MNIST dataset, then create training and test datasets for us. Don't worry too much about the details here, you'll learn more about this later."
   ]
  },
  {
   "cell_type": "code",
   "execution_count": 31,
   "metadata": {},
   "outputs": [],
   "source": [
    "### Run this cell\n",
    "\n",
    "from torchvision import datasets, transforms\n",
    "\n",
    "# Define a transform to normalize the data\n",
    "transform = transforms.Compose([transforms.ToTensor(),\n",
    "                              transforms.Normalize((0.5,), (0.5,)),\n",
    "                              ])\n",
    "\n",
    "# Download and load the training data\n",
    "trainset = datasets.MNIST('~/.pytorch/MNIST_data/', download=True, train=True, transform=transform)\n",
    "trainloader = torch.utils.data.DataLoader(trainset, batch_size=64, shuffle=True)"
   ]
  },
  {
   "cell_type": "markdown",
   "metadata": {},
   "source": [
    "We have the training data loaded into `trainloader` and we make that an iterator with `iter(trainloader)`. Later, we'll use this to loop through the dataset for training, like\n",
    "\n",
    "```python\n",
    "for image, label in trainloader:\n",
    "    ## do things with images and labels\n",
    "```\n",
    "\n",
    "You'll notice I created the `trainloader` with a batch size of 64, and `shuffle=True`. The batch size is the number of images we get in one iteration from the data loader and pass through our network, often called a *batch*. And `shuffle=True` tells it to shuffle the dataset every time we start going through the data loader again. But here I'm just grabbing the first batch so we can check out the data. We can see below that `images` is just a tensor with size `(64, 1, 28, 28)`. So, 64 images per batch, 1 color channel, and 28x28 images."
   ]
  },
  {
   "cell_type": "code",
   "execution_count": 32,
   "metadata": {},
   "outputs": [
    {
     "name": "stdout",
     "output_type": "stream",
     "text": [
      "<class 'torch.Tensor'>\n",
      "torch.Size([64, 1, 28, 28])\n",
      "torch.Size([64])\n"
     ]
    }
   ],
   "source": [
    "dataiter = iter(trainloader)\n",
    "images, labels = dataiter.next()\n",
    "print(type(images))\n",
    "print(images.shape)\n",
    "print(labels.shape)"
   ]
  },
  {
   "cell_type": "markdown",
   "metadata": {},
   "source": [
    "This is what one of the images looks like. "
   ]
  },
  {
   "cell_type": "code",
   "execution_count": 33,
   "metadata": {},
   "outputs": [
    {
     "data": {
      "image/png": "[encoded data removed]",
      "text/plain": [
       "<Figure size 432x288 with 1 Axes>"
      ]
     },
     "metadata": {
      "image/png": {
       "height": 250,
       "width": 253
      }
     },
     "output_type": "display_data"
    }
   ],
   "source": [
    "plt.imshow(images[1].numpy().squeeze(), cmap='Greys_r');"
   ]
  },
  {
   "cell_type": "markdown",
   "metadata": {},
   "source": [
    "First, let's try to build a simple network for this dataset using weight matrices and matrix multiplications. Then, we'll see how to do it using PyTorch's `nn` module which provides a much more convenient and powerful method for defining network architectures.\n",
    "\n",
    "The networks you've seen so far are called *fully-connected* or *dense* networks. Each unit in one layer is connected to each unit in the next layer. In fully-connected networks, the input to each layer must be a one-dimensional vector (which can be stacked into a 2D tensor as a batch of multiple examples). However, our images are 28x28 2D tensors, so we need to convert them into 1D vectors. Thinking about sizes, we need to convert the batch of images with shape `(64, 1, 28, 28)` to a have a shape of `(64, 784)`, 784 is 28 times 28. This is typically called *flattening*, we flattened the 2D images into 1D vectors.\n",
    "\n",
    "Previously you built a network with one output unit. Here we need 10 output units, one for each digit. We want our network to predict the digit shown in an image, so what we'll do is calculate probabilities that the image is of any one digit or class. This ends up being a discrete probability distribution over the classes (digits) that tells us the most likely class for the image. That means we need 10 output units for the 10 classes (digits). We'll see how to convert the network output into a probability distribution next.\n",
    "\n",
    "> **Exercise:** Flatten the batch of images `images`. Then build a multi-layer network with 784 input units, 256 hidden units, and 10 output units using random tensors for the weights and biases. For now, use a sigmoid activation for the hidden layer. Leave the output layer without an activation, we'll add one that gives us a probability distribution next."
   ]
  },
  {
   "cell_type": "code",
   "execution_count": 40,
   "metadata": {},
   "outputs": [
    {
     "name": "stdout",
     "output_type": "stream",
     "text": [
      "tensor([[ -4.0155,   2.6535,  20.2332,  11.9787,  -8.4348,  -5.4954,  -9.9003,\n",
      "          -2.3746, -14.1381,   6.1689],\n",
      "        [ -2.1722,   5.5266,  15.9579,  11.9572, -13.0665,  -7.3118,  -0.4291,\n",
      "          -3.5593, -14.2543,  -7.1160],\n",
      "        [-13.3165,  19.5098,  12.9422,  11.1675, -11.1898,  11.7569, -11.9827,\n",
      "          -3.2879, -22.2905,  -0.9021],\n",
      "        [ -2.0314,  11.6403,  20.8339,   1.0084,  -5.4460,  -0.0203,  -6.5274,\n",
      "          -7.7560, -20.9193,   1.8993],\n",
      "        [ -3.0600,  18.4356,   9.6009,  -3.1944, -18.1026, -12.5831,   2.9514,\n",
      "          -8.0264, -15.4503,  -5.5600],\n",
      "        [ -2.2787,  11.2768,  23.8619,   3.1415,  -9.6250,   2.8550,   0.1732,\n",
      "          -5.8712,  -6.0021,   3.1778],\n",
      "        [ -0.0782,   9.7582,  21.5567,   5.2202, -12.2297,  -3.8297, -10.4096,\n",
      "          -7.9945, -26.9138,   6.6437],\n",
      "        [  6.2510,  17.0170,   9.8537,   7.3351, -21.1013,   2.8332,  -0.3173,\n",
      "          -8.0997, -18.8531,  -5.7613],\n",
      "        [ -3.4238,   2.2042,  23.8214,   4.0449,   2.5901,  -7.2049,  -5.0159,\n",
      "          -6.8654, -21.3993,  11.3154],\n",
      "        [ -1.8280,   9.0875,   8.6107,   5.7937, -16.9515,  -3.8860,  -3.7700,\n",
      "          -9.8383,  -7.7623,   2.6858],\n",
      "        [ -1.4509,   5.3469,  14.9273,  16.8217,  -5.5737,   5.8256,  -5.3150,\n",
      "           0.3346, -19.7034,   9.9421],\n",
      "        [  1.1752,   6.4637,   9.8787,   3.4556,  -6.9035,  -6.0132,  -7.3367,\n",
      "         -11.2371, -20.0959,   3.3189],\n",
      "        [ -7.2556,  11.8044,  24.2569,   4.8698, -13.7547,  -5.0930, -13.0987,\n",
      "          -9.1921, -17.6718,   6.1565],\n",
      "        [  0.5404,  15.3032,   9.9452,  15.0538, -13.5915,  -6.4967,  -3.6838,\n",
      "          -5.1970, -10.5267,  -7.0729],\n",
      "        [-16.3694,   6.4750,  30.3841,  20.3002,   0.5071,   2.8364, -11.1094,\n",
      "          -3.7146, -18.1911,   8.2112],\n",
      "        [ -3.1810,  15.6234,  21.7104,  10.4293,  -6.4583,   6.0073,  -7.5975,\n",
      "          -9.6765, -20.4665,   4.1937],\n",
      "        [  6.5385,  10.4088,  14.8539,   3.1603,  -2.1473,   1.2001,  -1.7001,\n",
      "          -4.5572, -13.3572,  -1.7439],\n",
      "        [-16.7116,  26.2199,  27.1833,  10.5487,  -6.0714,  -0.6750,  -4.4659,\n",
      "          -0.0082, -22.3211,   0.5953],\n",
      "        [ -3.4926,   4.7504,  21.3965,   6.9281,  -5.6080,  -0.2965, -11.8273,\n",
      "          -9.6472, -24.7233,   0.3127],\n",
      "        [ -3.8917,   9.6298,  21.6223,   5.5154, -12.4371,  -2.7086,  -3.6074,\n",
      "          -1.3821, -15.2309,   4.2744],\n",
      "        [ -1.7757,   5.5454,   0.9078,  12.0542,  -6.1200,  -7.1235,  -4.8430,\n",
      "           4.5216, -12.7639,   1.0561],\n",
      "        [ -4.1221,  13.7972,  23.6532,   4.8573, -10.9918,  -4.4402,   1.5332,\n",
      "         -10.8168, -17.5651,   7.2675],\n",
      "        [ -8.2558,   3.2051,  21.1871,  18.2655,  -2.4004,  -5.5548,  -5.6831,\n",
      "           3.1349, -17.8170,   8.5234],\n",
      "        [  3.1755,   8.9785,  12.4227,   5.7881, -14.2487,  -4.6892,   2.0784,\n",
      "          -3.1275, -11.9530,   3.1146],\n",
      "        [ -7.2159,  13.9402,  18.2627,  -0.1635, -11.1337,  -8.3736,  -7.5468,\n",
      "          -6.8161, -24.0449,  -0.4771],\n",
      "        [ -3.7178,   5.7692,  25.9432,   4.1473,  -3.2934,   8.1614,  -8.5012,\n",
      "          -0.1033, -26.5786,  -7.5033],\n",
      "        [ -0.7441,   8.9515,  19.8431,   7.2253, -10.0610,   3.0355,  -4.2293,\n",
      "          -9.8189, -20.1809,   2.0690],\n",
      "        [ -8.5658,  13.4126,  18.4121,  10.9936,  -9.8777,  -1.6642,   0.0618,\n",
      "         -14.0029, -17.7047,   4.9357],\n",
      "        [-12.2269,   9.1031,   6.9156,  14.4339,  -5.2793,  -7.6947, -11.8739,\n",
      "          -1.3622, -17.2984,   2.3198],\n",
      "        [  5.9489,   6.2831,  11.5446,  11.1199, -20.1250,  -4.0967,  -2.8588,\n",
      "          -7.4511, -11.6362,  -2.7153],\n",
      "        [ -6.7125,  10.3915,  15.1973,  11.4807, -11.5953,  -4.2616,  -3.6773,\n",
      "          -3.9150, -21.6612,   5.5270],\n",
      "        [-13.0536,   4.3719,  19.6474,   7.1970,  -5.1778,  -7.7524,  -5.5321,\n",
      "          -7.2889, -16.2358,   0.6679],\n",
      "        [ -1.8196,   4.5144,  13.6616,  18.0217,  -1.0270,  -3.2716, -10.5567,\n",
      "          -3.9852, -12.5527,   5.0535],\n",
      "        [ -1.8746,   2.0650,  19.8858,   8.7471,  -7.4309,  -3.4484,  -8.3168,\n",
      "         -17.3220, -16.2312,  -1.7382],\n",
      "        [ -1.4898,  15.7498,  13.3796,  13.4295, -10.5573,  -4.1493, -11.9971,\n",
      "          -3.8577, -11.2017,  -3.2328],\n",
      "        [  0.4071,  17.4473,  12.2243,   3.5926, -12.2620,  -6.6344, -11.0367,\n",
      "          -9.7839, -11.7532,   7.9283],\n",
      "        [ -0.9851,   9.1769,  17.3265,  13.6050,  -8.5914,  -5.1842, -11.5943,\n",
      "          -3.2051, -21.1971,   1.4746],\n",
      "        [ -6.5030,   1.6410,  15.4415,  13.3338,  -7.2311,   5.4264, -11.6358,\n",
      "          -7.4114, -17.7554,   9.0430],\n",
      "        [ -4.2875,   9.8148,  14.2200,  -0.3879,  -8.1756,   5.4489,  -7.0634,\n",
      "          -1.4131, -26.1771,  -3.5782],\n",
      "        [ -3.3681,   9.1301,  18.4484,   6.8304,  -7.8845,  -0.6994,  -6.4813,\n",
      "          -4.6285, -20.8069,  -1.3932],\n",
      "        [-10.2857,  15.5652,  18.4405,  10.2799,  -9.5443,  -6.5217,  -3.5088,\n",
      "          -5.8614, -17.0489,  -0.0297],\n",
      "        [ -6.3685,   4.0328,  13.4955,   6.2013,  -8.5568,  -6.5365,  -4.3846,\n",
      "         -14.3140, -17.8070,  -1.0469],\n",
      "        [  6.0183,  22.6236,  15.9398,  -4.7208, -12.6757,   2.8882,  -5.6645,\n",
      "          -7.6651, -14.7669,   2.7039],\n",
      "        [-17.4843,  12.2611,  20.3121,   1.5225, -11.0777, -12.4818,   1.5374,\n",
      "          -0.8659, -12.3690,   4.6702],\n",
      "        [  1.1584,   7.6604,   9.9558,   3.3589, -11.6181,   1.4862,  -3.3313,\n",
      "          -4.3639, -12.9246,   9.0091],\n",
      "        [-14.1035,  15.7418,   9.6789,   7.3498,  -8.8639, -10.6659, -14.0263,\n",
      "           1.2696, -16.8319,   5.2710],\n",
      "        [  4.7248,   6.6031,  15.9258,   8.5866, -14.4794,  -2.6019,  -4.6621,\n",
      "          -7.4812, -19.4647,  13.1921],\n",
      "        [ -2.1935,  11.2857,  22.6286,   4.1854,  -7.0088,  -1.2013,  -9.2822,\n",
      "          -6.5906, -24.1976,   5.2346],\n",
      "        [  5.0351,  19.1582,  11.8317,   9.4427,  -9.8643,  -4.4075,   0.6011,\n",
      "           3.7017, -13.8552,   2.8437],\n",
      "        [  5.9743,  10.1117,   9.4192,   1.3332, -19.8314,  -3.6340, -10.4853,\n",
      "          -0.9503,  -6.8752,   0.3799],\n",
      "        [  4.7636,   6.9218,  12.2567,   5.6715, -15.6028,  -5.7801,  -7.2872,\n",
      "          -9.7369, -14.0429,   4.6010],\n",
      "        [-15.5447,  13.9693,  17.9581,  18.6184,  -3.8100,   3.1198,   0.0218,\n",
      "          -9.8063, -21.5257,   4.5241],\n",
      "        [  0.7517,   5.1577,  15.8247,   6.9141, -10.4486,   1.6964,  -6.4246,\n",
      "         -11.2440, -14.3240,  -0.4771],\n",
      "        [ -3.3075,   9.8663,  27.8847,   8.5505, -13.6023,  -9.6120,  -1.5724,\n",
      "           0.5432, -12.7030,  -3.1898],\n",
      "        [ -6.7594,  10.9231,  23.1127,   2.4053,  -6.1012,  -1.6006,  -8.2523,\n",
      "          -8.0662, -14.3250,   1.7038],\n",
      "        [-13.5836,   8.5243,   4.1653,  15.2696,  -9.7693, -10.6580,  -9.0271,\n",
      "          -5.0831, -22.3804,   7.9655],\n",
      "        [-10.0334,   6.5057,  13.0756,  18.1036,  -6.9579,  -8.9874, -10.4035,\n",
      "          -6.3695, -13.6161,   7.9771],\n",
      "        [-13.0873,   7.1230,  14.5593,  11.7018,  -0.3965,  -2.5505, -10.4581,\n",
      "           0.6171, -18.4101,  14.6132],\n",
      "        [ -6.5530,  12.6611,   9.4660,  15.2479,  -5.5209, -11.4138,  -6.9269,\n",
      "         -14.9995, -21.9486,   3.9307],\n",
      "        [ -1.5711,  10.7982,  17.6525,  12.0415, -10.1363,   0.9598,   0.9725,\n",
      "          12.9661, -16.5223,  -3.1429],\n",
      "        [-13.4298,  13.2813,  18.8766,  11.5739, -14.5153, -13.7042,  -3.1207,\n",
      "         -12.5824,  -5.5610,   1.9483],\n",
      "        [-15.0613,  15.6537,  12.5099,  11.3860, -10.6505,  -2.9372,  -4.2366,\n",
      "          -7.8922, -10.3078,  15.1661],\n",
      "        [ -5.0494,   9.1557,  13.5701,  14.1579,  -6.4958,  -7.8149,  -5.3941,\n",
      "          -1.2817, -26.1816,   2.8589],\n",
      "        [ -3.2116,  21.5045,  12.1982,  12.9087, -11.1942,   3.0386,  -5.4881,\n",
      "          -2.0745, -22.6627,  -1.2197]])\n"
     ]
    }
   ],
   "source": [
    "## Your solution\n",
    "\n",
    "def activation(x):\n",
    "    return 1 / ( 1 + torch.exp(-x))\n",
    "\n",
    "inputs = images.view(images.shape[0], -1)\n",
    "\n",
    "W1 = torch.randn(28*28, 256)\n",
    "B1 = torch.randn(256)\n",
    "W2 = torch.randn(256, 10)\n",
    "B2 = torch.randn(10)\n",
    "\n",
    "out = torch.mm(activation(torch.mm(inputs, W1) + B1), W2 ) + B2\n",
    "print(out)\n"
   ]
  },
  {
   "cell_type": "markdown",
   "metadata": {},
   "source": [
    "Now we have 10 outputs for our network. We want to pass in an image to our network and get out a probability distribution over the classes that tells us the likely class(es) the image belongs to. Something that looks like this:\n",
    "<img src='assets/image_distribution.png' width=500px>\n",
    "\n",
    "Here we see that the probability for each class is roughly the same. This is representing an untrained network, it hasn't seen any data yet so it just returns a uniform distribution with equal probabilities for each class.\n",
    "\n",
    "To calculate this probability distribution, we often use the [**softmax** function](https://en.wikipedia.org/wiki/Softmax_function). Mathematically this looks like\n",
    "\n",
    "$$\n",
    "\\Large \\sigma(x_i) = \\cfrac{e^{x_i}}{\\sum_k^K{e^{x_k}}}\n",
    "$$\n",
    "\n",
    "What this does is squish each input $x_i$ between 0 and 1 and normalizes the values to give you a proper probability distribution where the probabilites sum up to one.\n",
    "\n",
    "> **Exercise:** Implement a function `softmax` that performs the softmax calculation and returns probability distributions for each example in the batch. Note that you'll need to pay attention to the shapes when doing this. If you have a tensor `a` with shape `(64, 10)` and a tensor `b` with shape `(64,)`, doing `a/b` will give you an error because PyTorch will try to do the division across the columns (called broadcasting) but you'll get a size mismatch. The way to think about this is for each of the 64 examples, you only want to divide by one value, the sum in the denominator. So you need `b` to have a shape of `(64, 1)`. This way PyTorch will divide the 10 values in each row of `a` by the one value in each row of `b`. Pay attention to how you take the sum as well. You'll need to define the `dim` keyword in `torch.sum`. Setting `dim=0` takes the sum across the rows while `dim=1` takes the sum across the columns."
   ]
  },
  {
   "cell_type": "code",
   "execution_count": 38,
   "metadata": {},
   "outputs": [
    {
     "name": "stdout",
     "output_type": "stream",
     "text": [
      "torch.Size([64, 10])\n",
      "tensor([1.0000, 1.0000, 1.0000, 1.0000, 1.0000, 1.0000, 1.0000, 1.0000, 1.0000,\n",
      "        1.0000, 1.0000, 1.0000, 1.0000, 1.0000, 1.0000, 1.0000, 1.0000, 1.0000,\n",
      "        1.0000, 1.0000, 1.0000, 1.0000, 1.0000, 1.0000, 1.0000, 1.0000, 1.0000,\n",
      "        1.0000, 1.0000, 1.0000, 1.0000, 1.0000, 1.0000, 1.0000, 1.0000, 1.0000,\n",
      "        1.0000, 1.0000, 1.0000, 1.0000, 1.0000, 1.0000, 1.0000, 1.0000, 1.0000,\n",
      "        1.0000, 1.0000, 1.0000, 1.0000, 1.0000, 1.0000, 1.0000, 1.0000, 1.0000,\n",
      "        1.0000, 1.0000, 1.0000, 1.0000, 1.0000, 1.0000, 1.0000, 1.0000, 1.0000,\n",
      "        1.0000])\n"
     ]
    }
   ],
   "source": [
    "def softmax(x):\n",
    "    return torch.exp(x)/torch.sum(torch.exp(x), dim=1).view(-1, 1)\n",
    "    ## TODO: Implement the softmax function here\n",
    "\n",
    "# Here, out should be the output of the network in the previous excercise with shape (64,10)\n",
    "probabilities = softmax(out)\n",
    "\n",
    "# Does it have the right shape? Should be (64, 10)\n",
    "print(probabilities.shape)\n",
    "# Does it sum to 1?\n",
    "print(probabilities.sum(dim=1))"
   ]
  },
  {
   "cell_type": "markdown",
   "metadata": {},
   "source": [
    "## Building networks with PyTorch\n",
    "\n",
    "PyTorch provides a module `nn` that makes building networks much simpler. Here I'll show you how to build the same one as above with 784 inputs, 256 hidden units, 10 output units and a softmax output."
   ]
  },
  {
   "cell_type": "code",
   "execution_count": 41,
   "metadata": {},
   "outputs": [],
   "source": [
    "from torch import nn"
   ]
  },
  {
   "cell_type": "code",
   "execution_count": 42,
   "metadata": {},
   "outputs": [],
   "source": [
    "class Network(nn.Module):\n",
    "    def __init__(self):\n",
    "        super().__init__()\n",
    "        \n",
    "        # Inputs to hidden layer linear transformation\n",
    "        self.hidden = nn.Linear(784, 256)\n",
    "        # Output layer, 10 units - one for each digit\n",
    "        self.output = nn.Linear(256, 10)\n",
    "        \n",
    "        # Define sigmoid activation and softmax output \n",
    "        self.sigmoid = nn.Sigmoid()\n",
    "        self.softmax = nn.Softmax(dim=1)\n",
    "        \n",
    "    def forward(self, x):\n",
    "        # Pass the input tensor through each of our operations\n",
    "        x = self.hidden(x)\n",
    "        x = self.sigmoid(x)\n",
    "        x = self.output(x)\n",
    "        x = self.softmax(x)\n",
    "        \n",
    "        return x"
   ]
  },
  {
   "cell_type": "markdown",
   "metadata": {},
   "source": [
    "Let's go through this bit by bit.\n",
    "\n",
    "```python\n",
    "class Network(nn.Module):\n",
    "```\n",
    "\n",
    "Here we're inheriting from `nn.Module`. Combined with `super().__init__()` this creates a class that tracks the architecture and provides a lot of useful methods and attributes. It is mandatory to inherit from `nn.Module` when you're creating a class for your network. The name of the class itself can be anything.\n",
    "\n",
    "```python\n",
    "self.hidden = nn.Linear(784, 256)\n",
    "```\n",
    "\n",
    "This line creates a module for a linear transformation, $x\\mathbf{W} + b$, with 784 inputs and 256 outputs and assigns it to `self.hidden`. The module automatically creates the weight and bias tensors which we'll use in the `forward` method. You can access the weight and bias tensors once the network (`net`) is created with `net.hidden.weight` and `net.hidden.bias`.\n",
    "\n",
    "```python\n",
    "self.output = nn.Linear(256, 10)\n",
    "```\n",
    "\n",
    "Similarly, this creates another linear transformation with 256 inputs and 10 outputs.\n",
    "\n",
    "```python\n",
    "self.sigmoid = nn.Sigmoid()\n",
    "self.softmax = nn.Softmax(dim=1)\n",
    "```\n",
    "\n",
    "Here I defined operations for the sigmoid activation and softmax output. Setting `dim=1` in `nn.Softmax(dim=1)` calculates softmax across the columns.\n",
    "\n",
    "```python\n",
    "def forward(self, x):\n",
    "```\n",
    "\n",
    "PyTorch networks created with `nn.Module` must have a `forward` method defined. It takes in a tensor `x` and passes it through the operations you defined in the `__init__` method.\n",
    "\n",
    "```python\n",
    "x = self.hidden(x)\n",
    "x = self.sigmoid(x)\n",
    "x = self.output(x)\n",
    "x = self.softmax(x)\n",
    "```\n",
    "\n",
    "Here the input tensor `x` is passed through each operation and reassigned to `x`. We can see that the input tensor goes through the hidden layer, then a sigmoid function, then the output layer, and finally the softmax function. It doesn't matter what you name the variables here, as long as the inputs and outputs of the operations match the network architecture you want to build. The order in which you define things in the `__init__` method doesn't matter, but you'll need to sequence the operations correctly in the `forward` method.\n",
    "\n",
    "Now we can create a `Network` object."
   ]
  },
  {
   "cell_type": "code",
   "execution_count": 43,
   "metadata": {},
   "outputs": [
    {
     "data": {
      "text/plain": [
       "Network(\n",
       "  (hidden): Linear(in_features=784, out_features=256, bias=True)\n",
       "  (output): Linear(in_features=256, out_features=10, bias=True)\n",
       "  (sigmoid): Sigmoid()\n",
       "  (softmax): Softmax()\n",
       ")"
      ]
     },
     "execution_count": 43,
     "metadata": {},
     "output_type": "execute_result"
    }
   ],
   "source": [
    "# Create the network and look at it's text representation\n",
    "model = Network()\n",
    "model"
   ]
  },
  {
   "cell_type": "markdown",
   "metadata": {},
   "source": [
    "You can define the network somewhat more concisely and clearly using the `torch.nn.functional` module. This is the most common way you'll see networks defined as many operations are simple element-wise functions. We normally import this module as `F`, `import torch.nn.functional as F`."
   ]
  },
  {
   "cell_type": "code",
   "execution_count": 44,
   "metadata": {},
   "outputs": [],
   "source": [
    "import torch.nn.functional as F\n",
    "\n",
    "class Network(nn.Module):\n",
    "    def __init__(self):\n",
    "        super().__init__()\n",
    "        # Inputs to hidden layer linear transformation\n",
    "        self.hidden = nn.Linear(784, 256)\n",
    "        # Output layer, 10 units - one for each digit\n",
    "        self.output = nn.Linear(256, 10)\n",
    "        \n",
    "    def forward(self, x):\n",
    "        # Hidden layer with sigmoid activation\n",
    "        x = F.sigmoid(self.hidden(x))\n",
    "        # Output layer with softmax activation\n",
    "        x = F.softmax(self.output(x), dim=1)\n",
    "        \n",
    "        return x"
   ]
  },
  {
   "cell_type": "markdown",
   "metadata": {},
   "source": [
    "### Activation functions\n",
    "\n",
    "So far we've only been looking at the softmax activation, but in general any function can be used as an activation function. The only requirement is that for a network to approximate a non-linear function, the activation functions must be non-linear. Here are a few more examples of common activation functions: Tanh (hyperbolic tangent), and ReLU (rectified linear unit).\n",
    "\n",
    "<img src=\"assets/activation.png\" width=700px>\n",
    "\n",
    "In practice, the ReLU function is used almost exclusively as the activation function for hidden layers."
   ]
  },
  {
   "cell_type": "markdown",
   "metadata": {},
   "source": [
    "### Your Turn to Build a Network\n",
    "\n",
    "<img src=\"assets/mlp_mnist.png\" width=600px>\n",
    "\n",
    "> **Exercise:** Create a network with 784 input units, a hidden layer with 128 units and a ReLU activation, then a hidden layer with 64 units and a ReLU activation, and finally an output layer with a softmax activation as shown above. You can use a ReLU activation with the `nn.ReLU` module or `F.relu` function.\n",
    "\n",
    "It's good practice to name your layers by their type of network, for instance 'fc' to represent a fully-connected layer. As you code your solution, use `fc1`, `fc2`, and `fc3` as your layer names."
   ]
  },
  {
   "cell_type": "code",
   "execution_count": 58,
   "metadata": {
    "scrolled": true
   },
   "outputs": [
    {
     "data": {
      "text/plain": [
       "Network(\n",
       "  (fc1): Linear(in_features=784, out_features=128, bias=True)\n",
       "  (fc2): Linear(in_features=128, out_features=64, bias=True)\n",
       "  (fc3): Linear(in_features=64, out_features=10, bias=True)\n",
       ")"
      ]
     },
     "execution_count": 58,
     "metadata": {},
     "output_type": "execute_result"
    }
   ],
   "source": [
    "## Your solution here\n",
    "import torch.nn.functional as F\n",
    "\n",
    "class Network(nn.Module):\n",
    "    def __init__(self):\n",
    "        super().__init__()\n",
    "        # Inputs to hidden layer linear transformation\n",
    "        self.fc1 = nn.Linear(784, 128)\n",
    "        self.fc2 = nn.Linear(128, 64)\n",
    "        # Output layer, 10 units - one for each digit\n",
    "        self.fc3 = nn.Linear(64, 10)\n",
    "        \n",
    "    def forward(self, x):\n",
    "        # Hidden layer with sigmoid activation\n",
    "        x = self.fc1(x)\n",
    "        x = F.relu(x)\n",
    "        x = self.fc2(x)\n",
    "        x = F.relu(x)\n",
    "        x = self.fc3(x)\n",
    "        # Output layer with softmax activation\n",
    "        x = F.softmax(x, dim=1)\n",
    "        \n",
    "        return x\n",
    "    \n",
    "model = Network()\n",
    "model"
   ]
  },
  {
   "cell_type": "markdown",
   "metadata": {},
   "source": [
    "### Initializing weights and biases\n",
    "\n",
    "The weights and such are automatically initialized for you, but it's possible to customize how they are initialized. The weights and biases are tensors attached to the layer you defined, you can get them with `model.fc1.weight` for instance."
   ]
  },
  {
   "cell_type": "code",
   "execution_count": 59,
   "metadata": {},
   "outputs": [
    {
     "name": "stdout",
     "output_type": "stream",
     "text": [
      "Parameter containing:\n",
      "tensor([[-0.0249,  0.0300,  0.0328,  ..., -0.0313,  0.0339, -0.0115],\n",
      "        [ 0.0348,  0.0108, -0.0218,  ..., -0.0263,  0.0178, -0.0313],\n",
      "        [ 0.0025,  0.0034, -0.0194,  ...,  0.0272, -0.0230, -0.0277],\n",
      "        ...,\n",
      "        [-0.0143, -0.0079,  0.0259,  ...,  0.0254, -0.0079, -0.0114],\n",
      "        [ 0.0307,  0.0183,  0.0242,  ...,  0.0053,  0.0183, -0.0068],\n",
      "        [-0.0074,  0.0308, -0.0328,  ...,  0.0296, -0.0052,  0.0127]],\n",
      "       requires_grad=True)\n",
      "Parameter containing:\n",
      "tensor([-0.0287,  0.0037, -0.0290, -0.0010, -0.0222, -0.0258,  0.0226,  0.0296,\n",
      "         0.0129, -0.0273, -0.0094, -0.0249,  0.0286,  0.0171,  0.0141,  0.0047,\n",
      "         0.0101,  0.0157,  0.0064, -0.0237,  0.0314, -0.0352,  0.0286,  0.0121,\n",
      "        -0.0167,  0.0103,  0.0115,  0.0087, -0.0210,  0.0174,  0.0006, -0.0011,\n",
      "         0.0036, -0.0150, -0.0255, -0.0200, -0.0321,  0.0252,  0.0132,  0.0223,\n",
      "         0.0132, -0.0177, -0.0140, -0.0203, -0.0333, -0.0103, -0.0305, -0.0045,\n",
      "         0.0195, -0.0338, -0.0016,  0.0211,  0.0066,  0.0209,  0.0061, -0.0151,\n",
      "         0.0136,  0.0130, -0.0155, -0.0141, -0.0119,  0.0008,  0.0131,  0.0320,\n",
      "        -0.0247, -0.0101, -0.0023, -0.0094,  0.0345, -0.0007, -0.0292,  0.0036,\n",
      "        -0.0306, -0.0145, -0.0086, -0.0089, -0.0145,  0.0332,  0.0310, -0.0106,\n",
      "         0.0181,  0.0212,  0.0238, -0.0106, -0.0287, -0.0229,  0.0110, -0.0127,\n",
      "         0.0267, -0.0344, -0.0154,  0.0223, -0.0012, -0.0158, -0.0242,  0.0027,\n",
      "        -0.0168,  0.0117,  0.0164, -0.0149, -0.0083, -0.0342,  0.0113, -0.0225,\n",
      "         0.0311,  0.0136,  0.0192,  0.0134, -0.0314,  0.0103, -0.0114,  0.0259,\n",
      "         0.0232,  0.0271, -0.0087, -0.0283,  0.0183,  0.0130,  0.0189, -0.0059,\n",
      "         0.0030, -0.0115,  0.0295,  0.0251, -0.0253, -0.0193, -0.0182,  0.0163],\n",
      "       requires_grad=True)\n"
     ]
    }
   ],
   "source": [
    "print(model.fc1.weight)\n",
    "print(model.fc1.bias)"
   ]
  },
  {
   "cell_type": "markdown",
   "metadata": {},
   "source": [
    "For custom initialization, we want to modify these tensors in place. These are actually autograd *Variables*, so we need to get back the actual tensors with `model.fc1.weight.data`. Once we have the tensors, we can fill them with zeros (for biases) or random normal values."
   ]
  },
  {
   "cell_type": "code",
   "execution_count": 60,
   "metadata": {},
   "outputs": [
    {
     "data": {
      "text/plain": [
       "tensor([0., 0., 0., 0., 0., 0., 0., 0., 0., 0., 0., 0., 0., 0., 0., 0., 0., 0.,\n",
       "        0., 0., 0., 0., 0., 0., 0., 0., 0., 0., 0., 0., 0., 0., 0., 0., 0., 0.,\n",
       "        0., 0., 0., 0., 0., 0., 0., 0., 0., 0., 0., 0., 0., 0., 0., 0., 0., 0.,\n",
       "        0., 0., 0., 0., 0., 0., 0., 0., 0., 0., 0., 0., 0., 0., 0., 0., 0., 0.,\n",
       "        0., 0., 0., 0., 0., 0., 0., 0., 0., 0., 0., 0., 0., 0., 0., 0., 0., 0.,\n",
       "        0., 0., 0., 0., 0., 0., 0., 0., 0., 0., 0., 0., 0., 0., 0., 0., 0., 0.,\n",
       "        0., 0., 0., 0., 0., 0., 0., 0., 0., 0., 0., 0., 0., 0., 0., 0., 0., 0.,\n",
       "        0., 0.])"
      ]
     },
     "execution_count": 60,
     "metadata": {},
     "output_type": "execute_result"
    }
   ],
   "source": [
    "# Set biases to all zeros\n",
    "model.fc1.bias.data.fill_(0)"
   ]
  },
  {
   "cell_type": "code",
   "execution_count": 61,
   "metadata": {},
   "outputs": [
    {
     "data": {
      "text/plain": [
       "tensor([[-0.0033, -0.0054,  0.0102,  ...,  0.0083,  0.0019, -0.0032],\n",
       "        [-0.0013,  0.0017, -0.0133,  ..., -0.0133,  0.0021,  0.0083],\n",
       "        [-0.0116,  0.0088,  0.0040,  ..., -0.0011,  0.0044, -0.0066],\n",
       "        ...,\n",
       "        [ 0.0162, -0.0015,  0.0017,  ...,  0.0046,  0.0027,  0.0084],\n",
       "        [-0.0014, -0.0064,  0.0073,  ...,  0.0117, -0.0175,  0.0101],\n",
       "        [-0.0141, -0.0060,  0.0081,  ...,  0.0090,  0.0163, -0.0000]])"
      ]
     },
     "execution_count": 61,
     "metadata": {},
     "output_type": "execute_result"
    }
   ],
   "source": [
    "# sample from random normal with standard dev = 0.01\n",
    "model.fc1.weight.data.normal_(std=0.01)"
   ]
  },
  {
   "cell_type": "markdown",
   "metadata": {},
   "source": [
    "### Forward pass\n",
    "\n",
    "Now that we have a network, let's see what happens when we pass in an image."
   ]
  },
  {
   "cell_type": "code",
   "execution_count": 62,
   "metadata": {},
   "outputs": [
    {
     "data": {
      "image/png": "[encoded data removed]",
      "text/plain": [
       "<Figure size 432x648 with 2 Axes>"
      ]
     },
     "metadata": {
      "image/png": {
       "height": 224,
       "width": 423
      }
     },
     "output_type": "display_data"
    }
   ],
   "source": [
    "# Grab some data \n",
    "dataiter = iter(trainloader)\n",
    "images, labels = dataiter.next()\n",
    "\n",
    "# Resize images into a 1D vector, new shape is (batch size, color channels, image pixels) \n",
    "images.resize_(64, 1, 784)\n",
    "# or images.resize_(images.shape[0], 1, 784) to automatically get batch size\n",
    "\n",
    "# Forward pass through the network\n",
    "img_idx = 0\n",
    "ps = model.forward(images[img_idx,:])\n",
    "\n",
    "img = images[img_idx]\n",
    "helper.view_classify(img.view(1, 28, 28), ps)"
   ]
  },
  {
   "cell_type": "markdown",
   "metadata": {},
   "source": [
    "As you can see above, our network has basically no idea what this digit is. It's because we haven't trained it yet, all the weights are random!\n",
    "\n",
    "### Using `nn.Sequential`\n",
    "\n",
    "PyTorch provides a convenient way to build networks like this where a tensor is passed sequentially through operations, `nn.Sequential` ([documentation](https://pytorch.org/docs/master/nn.html#torch.nn.Sequential)). Using this to build the equivalent network:"
   ]
  },
  {
   "cell_type": "code",
   "execution_count": 63,
   "metadata": {},
   "outputs": [
    {
     "name": "stdout",
     "output_type": "stream",
     "text": [
      "Sequential(\n",
      "  (0): Linear(in_features=784, out_features=128, bias=True)\n",
      "  (1): ReLU()\n",
      "  (2): Linear(in_features=128, out_features=64, bias=True)\n",
      "  (3): ReLU()\n",
      "  (4): Linear(in_features=64, out_features=10, bias=True)\n",
      "  (5): Softmax()\n",
      ")\n"
     ]
    },
    {
     "data": {
      "image/png": "[encoded data removed]",
      "text/plain": [
       "<Figure size 432x648 with 2 Axes>"
      ]
     },
     "metadata": {
      "image/png": {
       "height": 224,
       "width": 423
      }
     },
     "output_type": "display_data"
    }
   ],
   "source": [
    "# Hyperparameters for our network\n",
    "input_size = 784\n",
    "hidden_sizes = [128, 64]\n",
    "output_size = 10\n",
    "\n",
    "# Build a feed-forward network\n",
    "model = nn.Sequential(nn.Linear(input_size, hidden_sizes[0]),\n",
    "                      nn.ReLU(),\n",
    "                      nn.Linear(hidden_sizes[0], hidden_sizes[1]),\n",
    "                      nn.ReLU(),\n",
    "                      nn.Linear(hidden_sizes[1], output_size),\n",
    "                      nn.Softmax(dim=1))\n",
    "print(model)\n",
    "\n",
    "# Forward pass through the network and display output\n",
    "images, labels = next(iter(trainloader))\n",
    "images.resize_(images.shape[0], 1, 784)\n",
    "ps = model.forward(images[0,:])\n",
    "helper.view_classify(images[0].view(1, 28, 28), ps)"
   ]
  },
  {
   "cell_type": "markdown",
   "metadata": {},
   "source": [
    "Here our model is the same as before: 784 input units, a hidden layer with 128 units, ReLU activation, 64 unit hidden layer, another ReLU, then the output layer with 10 units, and the softmax output.\n",
    "\n",
    "The operations are available by passing in the appropriate index. For example, if you want to get first Linear operation and look at the weights, you'd use `model[0]`."
   ]
  },
  {
   "cell_type": "code",
   "execution_count": 64,
   "metadata": {},
   "outputs": [
    {
     "name": "stdout",
     "output_type": "stream",
     "text": [
      "Linear(in_features=784, out_features=128, bias=True)\n"
     ]
    },
    {
     "data": {
      "text/plain": [
       "Parameter containing:\n",
       "tensor([[-0.0350, -0.0155, -0.0169,  ..., -0.0070, -0.0100, -0.0163],\n",
       "        [-0.0320, -0.0262, -0.0128,  ...,  0.0214, -0.0190, -0.0053],\n",
       "        [-0.0296,  0.0281, -0.0165,  ...,  0.0132,  0.0268,  0.0318],\n",
       "        ...,\n",
       "        [-0.0046,  0.0044,  0.0217,  ..., -0.0140, -0.0346, -0.0088],\n",
       "        [-0.0051, -0.0202, -0.0319,  ...,  0.0233, -0.0008, -0.0335],\n",
       "        [-0.0274,  0.0289, -0.0172,  ...,  0.0308, -0.0060,  0.0329]],\n",
       "       requires_grad=True)"
      ]
     },
     "execution_count": 64,
     "metadata": {},
     "output_type": "execute_result"
    }
   ],
   "source": [
    "print(model[0])\n",
    "model[0].weight"
   ]
  },
  {
   "cell_type": "markdown",
   "metadata": {},
   "source": [
    "You can also pass in an `OrderedDict` to name the individual layers and operations, instead of using incremental integers. Note that dictionary keys must be unique, so _each operation must have a different name_."
   ]
  },
  {
   "cell_type": "code",
   "execution_count": 65,
   "metadata": {},
   "outputs": [
    {
     "data": {
      "text/plain": [
       "Sequential(\n",
       "  (fc1): Linear(in_features=784, out_features=128, bias=True)\n",
       "  (relu1): ReLU()\n",
       "  (fc2): Linear(in_features=128, out_features=64, bias=True)\n",
       "  (relu2): ReLU()\n",
       "  (output): Linear(in_features=64, out_features=10, bias=True)\n",
       "  (softmax): Softmax()\n",
       ")"
      ]
     },
     "execution_count": 65,
     "metadata": {},
     "output_type": "execute_result"
    }
   ],
   "source": [
    "from collections import OrderedDict\n",
    "model = nn.Sequential(OrderedDict([\n",
    "                      ('fc1', nn.Linear(input_size, hidden_sizes[0])),\n",
    "                      ('relu1', nn.ReLU()),\n",
    "                      ('fc2', nn.Linear(hidden_sizes[0], hidden_sizes[1])),\n",
    "                      ('relu2', nn.ReLU()),\n",
    "                      ('output', nn.Linear(hidden_sizes[1], output_size)),\n",
    "                      ('softmax', nn.Softmax(dim=1))]))\n",
    "model"
   ]
  },
  {
   "cell_type": "markdown",
   "metadata": {},
   "source": [
    "Now you can access layers either by integer or the name"
   ]
  },
  {
   "cell_type": "code",
   "execution_count": 66,
   "metadata": {},
   "outputs": [
    {
     "name": "stdout",
     "output_type": "stream",
     "text": [
      "Linear(in_features=784, out_features=128, bias=True)\n",
      "Linear(in_features=784, out_features=128, bias=True)\n"
     ]
    }
   ],
   "source": [
    "print(model[0])\n",
    "print(model.fc1)"
   ]
  },
  {
   "cell_type": "markdown",
   "metadata": {},
   "source": [
    "In the next notebook, we'll see how we can train a neural network to accuractly predict the numbers appearing in the MNIST images."
   ]
  }
 ],
 "metadata": {
  "kernelspec": {
   "display_name": "conda_pytorch_p36",
   "language": "python",
   "name": "conda_pytorch_p36"
  },
  "language_info": {
   "codemirror_mode": {
    "name": "ipython",
    "version": 3
   },
   "file_extension": ".py",
   "mimetype": "text/x-python",
   "name": "python",
   "nbconvert_exporter": "python",
   "pygments_lexer": "ipython3",
   "version": "3.6.5"
  }
 },
 "nbformat": 4,
 "nbformat_minor": 2
}
